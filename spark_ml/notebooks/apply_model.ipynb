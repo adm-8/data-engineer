{
 "cells": [
  {
   "cell_type": "code",
   "execution_count": 1,
   "metadata": {},
   "outputs": [],
   "source": [
    "import org.apache.spark.sql.types.{StructType, StructField, IntegerType, LongType, StringType}\n",
    "import org.apache.spark.ml.{Pipeline, PipelineModel}\n",
    "import org.apache.spark.sql.functions._\n",
    "import org.apache.spark.sql.DataFrame"
   ]
  },
  {
   "cell_type": "code",
   "execution_count": 2,
   "metadata": {},
   "outputs": [
    {
     "name": "stdout",
     "output_type": "stream",
     "text": [
      "Current spark version is 2.4.4\n"
     ]
    }
   ],
   "source": [
    "println(s\"Current spark version is ${spark.version}\")"
   ]
  },
  {
   "cell_type": "code",
   "execution_count": 3,
   "metadata": {},
   "outputs": [
    {
     "data": {
      "text/plain": [
       "inputStreamPath = /home/jovyan/data/events-stream\n",
       "modelPath = /home/jovyan/models/spark-ml-model\n",
       "dataSchema = StructType(StructField(tweet,StringType,true))\n",
       "inputDF = [tweet: string]\n"
      ]
     },
     "metadata": {},
     "output_type": "display_data",
     "source": "user"
    },
    {
     "data": {
      "text/plain": [
       "[tweet: string]"
      ]
     },
     "execution_count": 3,
     "metadata": {},
     "output_type": "execute_result"
    }
   ],
   "source": [
    "val inputStreamPath = \"/home/jovyan/data/events-stream\"\n",
    "val modelPath = \"/home/jovyan/models/spark-ml-model\"\n",
    "\n",
    "val dataSchema = new StructType()\n",
    "    .add(\"tweet\", StringType)\n",
    "\n",
    "val inputDF = spark\n",
    "    .readStream\n",
    "    .schema(dataSchema)\n",
    "    .option(\"maxFilesPerTrigger\", 1)\n",
    "    .json(inputStreamPath)"
   ]
  },
  {
   "cell_type": "code",
   "execution_count": 4,
   "metadata": {},
   "outputs": [
    {
     "data": {
      "text/plain": [
       "Name: Syntax Error.\n",
       "Message: \n",
       "StackTrace: "
      ]
     },
     "execution_count": 4,
     "metadata": {},
     "output_type": "execute_result"
    }
   ],
   "source": [
    "/*\n",
    "inputDF.writeStream\n",
    "      .format(\"console\")\n",
    "      .outputMode(\"append\")\n",
    "      .start()             // Start the computation\n",
    "      .awaitTermination()  // Wait for the computation to terminate\n",
    "\n",
    "*/"
   ]
  },
  {
   "cell_type": "code",
   "execution_count": 5,
   "metadata": {},
   "outputs": [
    {
     "data": {
      "text/plain": [
       "getProbability = UserDefinedFunction(<function1>,DoubleType,Some(List(org.apache.spark.ml.linalg.VectorUDT@3bfc3ba7)))\n",
       "loadedModel = pipeline_0ce8a87d0323\n"
      ]
     },
     "metadata": {},
     "output_type": "display_data",
     "source": "user"
    },
    {
     "data": {
      "text/plain": [
       "org.apache.spark.sql.execution.streaming.StreamingQueryWrapper@17aa556a"
      ]
     },
     "execution_count": 5,
     "metadata": {},
     "output_type": "execute_result"
    },
    {
     "name": "stdout",
     "output_type": "stream",
     "text": [
      "+--------------------+----------+-------------------+\n",
      "|               tweet|prediction|  clean_probability|\n",
      "+--------------------+----------+-------------------+\n",
      "|just ate a bakewa...|       0.0|0.43810224662635244|\n",
      "|i really fancy a ...|       0.0| 0.4999809859379349|\n",
      "|man  practice sta...|       0.0| 0.4249372403219237|\n",
      "|netball killed me...|       0.0|0.49057318846252435|\n",
      "|just done bathing...|       1.0| 0.5115009639688723|\n",
      "|well that went well |       1.0| 0.5115009639688723|\n",
      "|I'm enjoying a qu...|       1.0| 0.5129109149108058|\n",
      "|@therealpickler h...|       1.0| 0.5448869177916822|\n",
      "|@heatheraewalker ...|       1.0| 0.5115009639688723|\n",
      "|I wonder what Kri...|       1.0| 0.5233968235809713|\n",
      "+--------------------+----------+-------------------+\n",
      "\n",
      "+--------------------+----------+-------------------+\n",
      "|               tweet|prediction|  clean_probability|\n",
      "+--------------------+----------+-------------------+\n",
      "|I'm sad to hear t...|       1.0| 0.5189018141259198|\n",
      "|@johncmayer omg, ...|       1.0| 0.5206547280982172|\n",
      "|I need to get bac...|       0.0| 0.4223023533327753|\n",
      "|Problem with my m...|       0.0| 0.4400044316497894|\n",
      "|We went to the Ch...|       1.0| 0.5149287430143249|\n",
      "|want to play bfhe...|       0.0|0.49075579126600166|\n",
      "|@bearsdinosour th...|       1.0| 0.5115009639688723|\n",
      "|Thaught the punch...|       0.0|0.48699817158118774|\n",
      "|@Randydeluxe ohno...|       0.0|0.49409622638791484|\n",
      "|@ahhamber nooooo!...|       1.0| 0.5115009639688723|\n",
      "|have a niiiiiiiii...|       1.0| 0.5149287430143249|\n",
      "|---no boundaries ...|       1.0| 0.5115009639688723|\n",
      "|#whereisjoeymcint...|       1.0|  0.506515964057028|\n",
      "|Out for some dran...|       1.0| 0.5300625255736279|\n",
      "|@SongzYuuup I cou...|       1.0| 0.5115009639688723|\n",
      "|is very happy as ...|       0.0| 0.4721404249071462|\n",
      "|Stayed up talking...|       0.0|0.43467446758089984|\n",
      "+--------------------+----------+-------------------+\n",
      "\n",
      "+--------------------+----------+------------------+\n",
      "|               tweet|prediction| clean_probability|\n",
      "+--------------------+----------+------------------+\n",
      "|i am at school......|       0.0| 0.485627541713491|\n",
      "|ckk..these routin...|       0.0|0.4467110187142964|\n",
      "|it's roasting aga...|       1.0|0.5500635856511653|\n",
      "|Computer in train...|       0.0|0.4850056895978517|\n",
      "|@MissD757 Hey DC/...|       1.0|0.5155112071226051|\n",
      "|has a bad stiff n...|       0.0| 0.466344831695879|\n",
      "|The Proposal is g...|       1.0|0.5115009639688723|\n",
      "|Just got back fro...|       0.0|0.4094013509278328|\n",
      "|is talking to ari...|       1.0|0.5115009639688723|\n",
      "|@ashbo I hope you...|       1.0|0.5380608985382896|\n",
      "|i is sick :[ brin...|       1.0|0.5055209455389142|\n",
      "|WHEWWWWW! On Mi W...|       1.0|0.5115009639688723|\n",
      "|@Trezzay I do fol...|       1.0|0.5448869177916822|\n",
      "+--------------------+----------+------------------+\n",
      "\n",
      "+--------------------+----------+-------------------+\n",
      "|               tweet|prediction|  clean_probability|\n",
      "+--------------------+----------+-------------------+\n",
      "|Eww just killed a...|       0.0|0.43810224662635244|\n",
      "|hmmm would rather...|       0.0| 0.4966756662816819|\n",
      "|@luvnmuzik215 I m...|       1.0| 0.5175130757089897|\n",
      "|Now this is reall...|       1.0| 0.5691085686031945|\n",
      "|such a sleepy bea...|       1.0| 0.5355990104140234|\n",
      "|Feeling pretty ro...|       1.0| 0.5046749447154798|\n",
      "|@JordanKnight You...|       1.0| 0.5448869177916822|\n",
      "|@therealchillar  ...|       0.0|  0.491607560143449|\n",
      "|  definately bedtime|       0.0|0.49075579126600166|\n",
      "|  My chair's broken |       0.0|0.43467446758089984|\n",
      "|wow! an additiona...|       0.0| 0.4404355000494041|\n",
      "|@electroweb runni...|       0.0| 0.4722295912458991|\n",
      "|@ispyvictoria ama...|       1.0| 0.5115009639688723|\n",
      "|Working on Script...|       1.0| 0.5019459286575777|\n",
      "|@Amy_BabyGirl bye...|       0.0| 0.4902665022974083|\n",
      "|Today was all sor...|       1.0| 0.5149287430143249|\n",
      "|@AntoneellaP  fin...|       1.0| 0.5389068993617242|\n",
      "|@boswick82 thanks...|       1.0| 0.5531440780939945|\n",
      "+--------------------+----------+-------------------+\n",
      "\n"
     ]
    }
   ],
   "source": [
    "val getProbability = udf((prediction: org.apache.spark.ml.linalg.Vector) => prediction(1))\n",
    "\n",
    "val loadedModel = PipelineModel.load(\"/home/jovyan/models/spark-ml-model\")\n",
    "\n",
    "\n",
    "inputDF.writeStream.foreachBatch { (batchDF: DataFrame, batchId: Long) =>\n",
    "    \n",
    "    val predictionsDF = loadedModel.transform(batchDF)\n",
    "    val resDF = predictionsDF.select($\"tweet\", $\"prediction\", getProbability($\"probability\").alias(\"clean_probability\"))\n",
    "    resDF.show()\n",
    "\n",
    "}.start()"
   ]
  },
  {
   "cell_type": "code",
   "execution_count": null,
   "metadata": {},
   "outputs": [],
   "source": [
    "/*\n",
    "import java.time.Instant\n",
    "\n",
    "val getProbability = udf((prediction: org.apache.spark.ml.linalg.Vector) => prediction(1))\n",
    "//val getTimestamp = udf(() => Instant.now.getEpochSecond )\n",
    "\n",
    "val loadedModel = PipelineModel.load(\"/home/jovyan/models/spark-ml-model\")\n",
    "\n",
    "//var predDF = Seq.empty[(String, Int, Long, Long)].toDF(\"tweet\", \"prediction\", \"clean_probability\", \"TS\")\n",
    "\n",
    "inputDF.writeStream.foreachBatch { (batchDF: DataFrame, batchId: Long) =>\n",
    "    \n",
    "    val predictionsDF = loadedModel.transform(batchDF)\n",
    "    //val now_minus_10 = getTimestamp() - 10\n",
    "    val resDF = predictionsDF.select($\"tweet\", $\"prediction\", getProbability($\"probability\").alias(\"clean_probability\")/*, getTimestamp().alias(\"TS\")*/)\n",
    "    resDF.show()\n",
    "        \n",
    "    //predDF = resDF.union(predDF)\n",
    "    //resDF.show()\n",
    "    //println(predDF.count()) //.filter($\"TS\" >= now_minus_10)    \n",
    "    //println(\"За последние 10 секунд было спрогнозировано: \")\n",
    "    //predDF.show(1000) //.filter($\"TS\" >= now_minus_10).groupBy($\"prediction\").count\n",
    "}.start()\n",
    "*/"
   ]
  },
  {
   "cell_type": "code",
   "execution_count": null,
   "metadata": {},
   "outputs": [],
   "source": []
  },
  {
   "cell_type": "code",
   "execution_count": null,
   "metadata": {},
   "outputs": [],
   "source": []
  },
  {
   "cell_type": "code",
   "execution_count": null,
   "metadata": {},
   "outputs": [],
   "source": []
  },
  {
   "cell_type": "code",
   "execution_count": null,
   "metadata": {
    "scrolled": true
   },
   "outputs": [],
   "source": []
  },
  {
   "cell_type": "code",
   "execution_count": null,
   "metadata": {},
   "outputs": [],
   "source": []
  }
 ],
 "metadata": {
  "kernelspec": {
   "display_name": "Apache Toree - Scala",
   "language": "scala",
   "name": "apache_toree_scala"
  },
  "language_info": {
   "codemirror_mode": "text/x-scala",
   "file_extension": ".scala",
   "mimetype": "text/x-scala",
   "name": "scala",
   "pygments_lexer": "scala",
   "version": "2.11.12"
  }
 },
 "nbformat": 4,
 "nbformat_minor": 4
}

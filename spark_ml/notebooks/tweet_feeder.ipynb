{
 "cells": [
  {
   "cell_type": "code",
   "execution_count": 4,
   "metadata": {},
   "outputs": [
    {
     "name": "stdout",
     "output_type": "stream",
     "text": [
      "Current spark version is 2.4.4\n"
     ]
    }
   ],
   "source": [
    "println(s\"Current spark version is ${spark.version}\")"
   ]
  },
  {
   "cell_type": "code",
   "execution_count": 5,
   "metadata": {},
   "outputs": [
    {
     "name": "stdout",
     "output_type": "stream",
     "text": [
      "Total tweets in file: 1600000\n"
     ]
    },
    {
     "data": {
      "text/plain": [
       "dataSchema = StructType(StructField(target,IntegerType,true), StructField(id,LongType,true), StructField(raw_timestamp,StringType,true), StructField(query_status,StringType,true), StructField(author,StringType,true), StructField(tweet,StringType,true))\n",
       "dataPath = /home/jovyan/data/training.1600000.processed.noemoticon.csv\n",
       "raw_sentiment = [tweet: string]\n"
      ]
     },
     "metadata": {},
     "output_type": "display_data",
     "source": "user"
    },
    {
     "data": {
      "text/plain": [
       "[tweet: string]"
      ]
     },
     "execution_count": 5,
     "metadata": {},
     "output_type": "execute_result"
    }
   ],
   "source": [
    "import org.apache.spark.sql.types.{StructType, StructField, IntegerType, LongType, StringType}\n",
    "\n",
    "val dataSchema = new StructType()\n",
    "    .add(\"target\", IntegerType)\n",
    "    .add(\"id\", LongType)\n",
    "    .add(\"raw_timestamp\", StringType)\n",
    "    .add(\"query_status\", StringType)\n",
    "    .add(\"author\", StringType)\n",
    "    .add(\"tweet\", StringType)\n",
    "\n",
    "    \n",
    "val dataPath= \"/home/jovyan/data/training.1600000.processed.noemoticon.csv\"\n",
    "\n",
    "val raw_sentiment = spark.read\n",
    "    .format(\"csv\")\n",
    "    .option(\"header\",false)\n",
    "    .schema(dataSchema)\n",
    "    .load(dataPath)\n",
    "    .selectExpr(\"tweet\")\n",
    "\n",
    "println(s\"Total tweets in file: ${raw_sentiment.count}\")\n"
   ]
  },
  {
   "cell_type": "code",
   "execution_count": 6,
   "metadata": {},
   "outputs": [
    {
     "name": "stdout",
     "output_type": "stream",
     "text": [
      "Streaming started!\n"
     ]
    },
    {
     "data": {
      "text/plain": [
       "timer = java.util.Timer@1593084c\n",
       "task = $anon$1@3bd35864\n"
      ]
     },
     "metadata": {},
     "output_type": "display_data",
     "source": "user"
    },
    {
     "data": {
      "text/plain": [
       "$anon$1@3bd35864"
      ]
     },
     "execution_count": 6,
     "metadata": {},
     "output_type": "execute_result"
    },
    {
     "name": "stdout",
     "output_type": "stream",
     "text": [
      "2020-02-10T19:07:05.865Z - saved some data to the events stream!\n",
      "2020-02-10T19:07:12.917Z - saved some data to the events stream!\n",
      "2020-02-10T19:07:20.751Z - saved some data to the events stream!\n",
      "2020-02-10T19:07:29.361Z - saved some data to the events stream!\n",
      "2020-02-10T19:07:38.301Z - saved some data to the events stream!\n",
      "2020-02-10T19:07:49.539Z - saved some data to the events stream!\n",
      "2020-02-10T19:07:58.926Z - saved some data to the events stream!\n",
      "2020-02-10T19:08:08.549Z - saved some data to the events stream!\n",
      "2020-02-10T19:08:19.589Z - saved some data to the events stream!\n",
      "2020-02-10T19:08:29.178Z - saved some data to the events stream!\n",
      "2020-02-10T19:08:39.379Z - saved some data to the events stream!\n",
      "2020-02-10T19:08:49.613Z - saved some data to the events stream!\n",
      "2020-02-10T19:09:02.529Z - saved some data to the events stream!\n",
      "2020-02-10T19:09:13.525Z - saved some data to the events stream!\n",
      "2020-02-10T19:09:22.318Z - saved some data to the events stream!\n",
      "2020-02-10T19:09:30.043Z - saved some data to the events stream!\n",
      "2020-02-10T19:09:39.862Z - saved some data to the events stream!\n",
      "2020-02-10T19:09:49.661Z - saved some data to the events stream!\n",
      "2020-02-10T19:09:58.043Z - saved some data to the events stream!\n",
      "2020-02-10T19:10:06.936Z - saved some data to the events stream!\n",
      "2020-02-10T19:10:16.096Z - saved some data to the events stream!\n",
      "2020-02-10T19:10:25.802Z - saved some data to the events stream!\n",
      "2020-02-10T19:10:37.272Z - saved some data to the events stream!\n",
      "2020-02-10T19:10:46.484Z - saved some data to the events stream!\n",
      "2020-02-10T19:10:57.656Z - saved some data to the events stream!\n",
      "2020-02-10T19:11:08.377Z - saved some data to the events stream!\n",
      "2020-02-10T19:11:19.497Z - saved some data to the events stream!\n",
      "2020-02-10T19:11:31.001Z - saved some data to the events stream!\n",
      "2020-02-10T19:11:40.972Z - saved some data to the events stream!\n",
      "2020-02-10T19:11:49.932Z - saved some data to the events stream!\n"
     ]
    }
   ],
   "source": [
    "import java.util.{Calendar, Timer, TimerTask}\n",
    "\n",
    "val timer = new Timer()\n",
    "\n",
    "val task = new TimerTask {\n",
    "  def run(): Unit = {\n",
    "      val data = raw_sentiment.sample(fraction=0.00001,withReplacement=true)\n",
    "      data.coalesce(1).write.format(\"json\").mode(\"append\").save(\"/home/jovyan/data/events-stream\")\n",
    "      println(s\"${Calendar.getInstance().toInstant} - saved some data to the events stream!\")\n",
    "  } \n",
    "}\n",
    "\n",
    "println(\"Streaming started!\")\n",
    "\n",
    "timer.schedule(task, 1000L, 1000L)"
   ]
  },
  {
   "cell_type": "code",
   "execution_count": 11,
   "metadata": {},
   "outputs": [
    {
     "data": {
      "text/plain": [
       "true"
      ]
     },
     "execution_count": 11,
     "metadata": {},
     "output_type": "execute_result"
    }
   ],
   "source": [
    "task.cancel()"
   ]
  },
  {
   "cell_type": "code",
   "execution_count": null,
   "metadata": {},
   "outputs": [],
   "source": []
  }
 ],
 "metadata": {
  "kernelspec": {
   "display_name": "Apache Toree - Scala",
   "language": "scala",
   "name": "apache_toree_scala"
  },
  "language_info": {
   "codemirror_mode": "text/x-scala",
   "file_extension": ".scala",
   "mimetype": "text/x-scala",
   "name": "scala",
   "pygments_lexer": "scala",
   "version": "2.11.12"
  }
 },
 "nbformat": 4,
 "nbformat_minor": 4
}

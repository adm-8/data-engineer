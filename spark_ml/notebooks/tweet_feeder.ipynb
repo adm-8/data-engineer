{
 "cells": [
  {
   "cell_type": "code",
   "execution_count": 1,
   "metadata": {},
   "outputs": [
    {
     "name": "stdout",
     "output_type": "stream",
     "text": [
      "Current spark version is 2.4.4\n"
     ]
    }
   ],
   "source": [
    "println(s\"Current spark version is ${spark.version}\")"
   ]
  },
  {
   "cell_type": "code",
   "execution_count": 2,
   "metadata": {},
   "outputs": [
    {
     "name": "stdout",
     "output_type": "stream",
     "text": [
      "Total tweets in file: 1600000\n"
     ]
    },
    {
     "data": {
      "text/plain": [
       "dataSchema = StructType(StructField(target,IntegerType,true), StructField(id,LongType,true), StructField(raw_timestamp,StringType,true), StructField(query_status,StringType,true), StructField(author,StringType,true), StructField(tweet,StringType,true))\n",
       "dataPath = /home/jovyan/data/training.1600000.processed.noemoticon.csv\n",
       "raw_sentiment = [tweet: string]\n"
      ]
     },
     "metadata": {},
     "output_type": "display_data",
     "source": "user"
    },
    {
     "data": {
      "text/plain": [
       "[tweet: string]"
      ]
     },
     "execution_count": 2,
     "metadata": {},
     "output_type": "execute_result"
    }
   ],
   "source": [
    "import org.apache.spark.sql.types.{StructType, StructField, IntegerType, LongType, StringType}\n",
    "\n",
    "val dataSchema = new StructType()\n",
    "    .add(\"target\", IntegerType)\n",
    "    .add(\"id\", LongType)\n",
    "    .add(\"raw_timestamp\", StringType)\n",
    "    .add(\"query_status\", StringType)\n",
    "    .add(\"author\", StringType)\n",
    "    .add(\"tweet\", StringType)\n",
    "\n",
    "    \n",
    "val dataPath= \"/home/jovyan/data/training.1600000.processed.noemoticon.csv\"\n",
    "\n",
    "val raw_sentiment = spark.read\n",
    "    .format(\"csv\")\n",
    "    .option(\"header\",false)\n",
    "    .schema(dataSchema)\n",
    "    .load(dataPath)\n",
    "    .selectExpr(\"tweet\")\n",
    "\n",
    "println(s\"Total tweets in file: ${raw_sentiment.count}\")\n"
   ]
  },
  {
   "cell_type": "code",
   "execution_count": 3,
   "metadata": {},
   "outputs": [
    {
     "name": "stdout",
     "output_type": "stream",
     "text": [
      "Streaming started!\n"
     ]
    },
    {
     "data": {
      "text/plain": [
       "timer = java.util.Timer@c74b666\n",
       "task = $anon$1@6b54707\n"
      ]
     },
     "metadata": {},
     "output_type": "display_data",
     "source": "user"
    },
    {
     "data": {
      "text/plain": [
       "$anon$1@6b54707"
      ]
     },
     "execution_count": 3,
     "metadata": {},
     "output_type": "execute_result"
    },
    {
     "name": "stdout",
     "output_type": "stream",
     "text": [
      "2020-01-23T18:39:51.531Z - saved some data to the events stream!\n",
      "2020-01-23T18:39:59.046Z - saved some data to the events stream!\n",
      "2020-01-23T18:40:08.966Z - saved some data to the events stream!\n",
      "2020-01-23T18:40:20.978Z - saved some data to the events stream!\n",
      "2020-01-23T18:40:32.566Z - saved some data to the events stream!\n",
      "2020-01-23T18:40:42.913Z - saved some data to the events stream!\n",
      "2020-01-23T18:40:49.737Z - saved some data to the events stream!\n",
      "2020-01-23T18:40:56.598Z - saved some data to the events stream!\n",
      "2020-01-23T18:41:03.250Z - saved some data to the events stream!\n",
      "2020-01-23T18:41:09.898Z - saved some data to the events stream!\n",
      "2020-01-23T18:41:16.715Z - saved some data to the events stream!\n",
      "2020-01-23T18:41:23.372Z - saved some data to the events stream!\n",
      "2020-01-23T18:41:30.516Z - saved some data to the events stream!\n",
      "2020-01-23T18:41:40.060Z - saved some data to the events stream!\n",
      "2020-01-23T18:41:51.047Z - saved some data to the events stream!\n",
      "2020-01-23T18:42:01.290Z - saved some data to the events stream!\n",
      "2020-01-23T18:42:12.248Z - saved some data to the events stream!\n",
      "2020-01-23T18:42:25.677Z - saved some data to the events stream!\n",
      "2020-01-23T18:42:36.377Z - saved some data to the events stream!\n",
      "2020-01-23T18:42:49.913Z - saved some data to the events stream!\n",
      "2020-01-23T18:43:08.154Z - saved some data to the events stream!\n",
      "2020-01-23T18:43:27.711Z - saved some data to the events stream!\n",
      "2020-01-23T18:43:38.607Z - saved some data to the events stream!\n",
      "2020-01-23T18:43:50.587Z - saved some data to the events stream!\n",
      "2020-01-23T18:44:02.163Z - saved some data to the events stream!\n",
      "2020-01-23T18:44:15.069Z - saved some data to the events stream!\n",
      "2020-01-23T18:44:25.611Z - saved some data to the events stream!\n",
      "2020-01-23T18:44:36.046Z - saved some data to the events stream!\n",
      "2020-01-23T18:44:52.851Z - saved some data to the events stream!\n",
      "2020-01-23T18:45:21.179Z - saved some data to the events stream!\n",
      "2020-01-23T18:45:33.101Z - saved some data to the events stream!\n",
      "2020-01-23T18:45:48.742Z - saved some data to the events stream!\n",
      "2020-01-23T18:46:21.465Z - saved some data to the events stream!\n",
      "2020-01-23T18:46:53.031Z - saved some data to the events stream!\n",
      "2020-01-23T18:47:38.102Z - saved some data to the events stream!\n",
      "2020-01-23T18:47:52.228Z - saved some data to the events stream!\n",
      "2020-01-23T18:48:02.885Z - saved some data to the events stream!\n",
      "2020-01-23T18:48:14.842Z - saved some data to the events stream!\n",
      "2020-01-23T18:48:30.619Z - saved some data to the events stream!\n",
      "2020-01-23T18:48:43.914Z - saved some data to the events stream!\n",
      "2020-01-23T18:48:56.144Z - saved some data to the events stream!\n",
      "2020-01-23T18:49:09.706Z - saved some data to the events stream!\n",
      "2020-01-23T18:49:21.010Z - saved some data to the events stream!\n",
      "2020-01-23T18:49:35.413Z - saved some data to the events stream!\n",
      "2020-01-23T18:49:47.292Z - saved some data to the events stream!\n",
      "2020-01-23T18:49:59.684Z - saved some data to the events stream!\n",
      "2020-01-23T18:50:13.005Z - saved some data to the events stream!\n",
      "2020-01-23T18:50:25.735Z - saved some data to the events stream!\n",
      "2020-01-23T18:50:38.085Z - saved some data to the events stream!\n",
      "2020-01-23T18:50:49.309Z - saved some data to the events stream!\n",
      "2020-01-23T18:51:00.918Z - saved some data to the events stream!\n",
      "2020-01-23T18:51:12.526Z - saved some data to the events stream!\n",
      "2020-01-23T18:51:25.881Z - saved some data to the events stream!\n",
      "2020-01-23T18:51:39.602Z - saved some data to the events stream!\n",
      "2020-01-23T18:51:53.146Z - saved some data to the events stream!\n",
      "2020-01-23T18:52:04.593Z - saved some data to the events stream!\n",
      "2020-01-23T18:52:17.727Z - saved some data to the events stream!\n",
      "2020-01-23T18:52:30.315Z - saved some data to the events stream!\n",
      "2020-01-23T18:52:42.900Z - saved some data to the events stream!\n",
      "2020-01-23T18:52:55.313Z - saved some data to the events stream!\n",
      "2020-01-23T18:53:05.843Z - saved some data to the events stream!\n",
      "2020-01-23T18:53:15.655Z - saved some data to the events stream!\n",
      "2020-01-23T18:53:25.147Z - saved some data to the events stream!\n",
      "2020-01-23T18:53:33.663Z - saved some data to the events stream!\n",
      "2020-01-23T18:53:45.156Z - saved some data to the events stream!\n",
      "2020-01-23T18:53:55.320Z - saved some data to the events stream!\n",
      "2020-01-23T18:54:05.615Z - saved some data to the events stream!\n"
     ]
    }
   ],
   "source": [
    "import java.util.{Calendar, Timer, TimerTask}\n",
    "\n",
    "val timer = new Timer()\n",
    "\n",
    "val task = new TimerTask {\n",
    "  def run(): Unit = {\n",
    "      val data = raw_sentiment.sample(fraction=0.00001,withReplacement=true)\n",
    "      data.coalesce(1).write.format(\"json\").mode(\"append\").save(\"/home/jovyan/data/events-stream\")\n",
    "      println(s\"${Calendar.getInstance().toInstant} - saved some data to the events stream!\")\n",
    "  } \n",
    "}\n",
    "\n",
    "println(\"Streaming started!\")\n",
    "\n",
    "timer.schedule(task, 1000L, 1000L)"
   ]
  },
  {
   "cell_type": "code",
   "execution_count": 11,
   "metadata": {},
   "outputs": [
    {
     "data": {
      "text/plain": [
       "true"
      ]
     },
     "execution_count": 11,
     "metadata": {},
     "output_type": "execute_result"
    }
   ],
   "source": [
    "task.cancel()"
   ]
  },
  {
   "cell_type": "code",
   "execution_count": null,
   "metadata": {},
   "outputs": [],
   "source": []
  }
 ],
 "metadata": {
  "kernelspec": {
   "display_name": "Apache Toree - Scala",
   "language": "scala",
   "name": "apache_toree_scala"
  },
  "language_info": {
   "codemirror_mode": "text/x-scala",
   "file_extension": ".scala",
   "mimetype": "text/x-scala",
   "name": "scala",
   "pygments_lexer": "scala",
   "version": "2.11.12"
  }
 },
 "nbformat": 4,
 "nbformat_minor": 4
}
